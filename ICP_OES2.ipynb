{
 "cells": [
  {
   "cell_type": "code",
   "execution_count": 247,
   "id": "5e9b029c",
   "metadata": {},
   "outputs": [],
   "source": [
    "# Importing necessary helpful libiraries\n",
    "import numpy as np\n",
    "import pandas as pd"
   ]
  },
  {
   "cell_type": "markdown",
   "id": "60771576",
   "metadata": {},
   "source": [
    "# File Reading and Setup\n",
    "\n",
    "### Instructions \n",
    "Setting up the file, put string of raw data into csv\n",
    "\n",
    "## Simpily Go to Cell,  Run all Cells \n",
    "Ex. \n",
    "\n",
    "rawData = pd.read_csv('dummy.csv')"
   ]
  },
  {
   "cell_type": "code",
   "execution_count": 242,
   "id": "5b112bad",
   "metadata": {},
   "outputs": [],
   "source": [
    "rawData = pd.read_csv(\"rdt.csv\", sep = ',')\n",
    "#Make sure that data is imported with the correct format \n",
    "#If the file is not corretcly separated by semicoln, the method will not run and result in error, indicating possible worng \\n\n",
    "#format of input file\n",
    "rawData.dropna(how = 'all')\n",
    "#Check if each column is in correct order \n",
    "dilutionTable = pd.read_csv(\"dilutionTable.csv\", sep = ',')\n",
    "blank_table = pd.DataFrame({\"Sample ID\"   : rawData['Sample ID'],\n",
    "                           \"AnalyteName\" : rawData['Analyte Name'],\n",
    "                           \"Conc (Calib)\": rawData['Conc (Calib)'],\n",
    "                           \"SD (Calib)\" : rawData['SD (Calib)'],\n",
    "                          })\n",
    "blank_table = blank_table.fillna(value = 0.0)\n",
    "blank_table = blank_table.replace(\" \", 0.0)\n",
    "blank_table = blank_table.set_index(['Sample ID','AnalyteName'])\n"
   ]
  },
  {
   "cell_type": "markdown",
   "id": "1e843e40",
   "metadata": {},
   "source": [
    "# Step 2 \n",
    "\n",
    "### Initialized a new table called step2Table, indexed by Sample ID and Analyte name. The following code converts the columns into necessary datatype, and calculating the standard deviation while appending it to the table\n"
   ]
  },
  {
   "cell_type": "code",
   "execution_count": 244,
   "id": "d98b3fde",
   "metadata": {},
   "outputs": [],
   "source": [
    "step2Table = pd.DataFrame({\"Sample ID\"   : rawData['Sample ID'],\n",
    "                           \"AnalyteName\" : rawData['Analyte Name'],\n",
    "                           \"Conc (Samp)\": rawData['Conc (Samp)'],\n",
    "                           \"SD (Samp)\" : rawData['SD (Samp)'],\n",
    "                          })\n",
    "step2Table = step2Table.fillna(value = 0.0)\n",
    "step2Table = step2Table.replace(\" \", 0.0)\n",
    "step2Table = step2Table.set_index([\"Sample ID\", \"AnalyteName\"])\n",
    "step2Table = step2Table.astype({\"Conc (Samp)\": 'float',\n",
    "})\n",
    "step2Table['sum'] = step2Table.sum(axis = 1)\n",
    "step2Table = step2Table[step2Table['sum'] != 0]\n",
    "step2Table = step2Table.drop(columns = 'sum')\n",
    "\n",
    "#Step 2 Table is convered into format of \n",
    "#IndexType: Tuple ([Sample ID], [Analyte Name])\n",
    "#All other columns are in float64 \n",
    "\n",
    "\n"
   ]
  },
  {
   "cell_type": "markdown",
   "id": "421d82d0",
   "metadata": {},
   "source": [
    "### Step 3 Rearrange data so Sample and Analyte are on the right "
   ]
  },
  {
   "cell_type": "code",
   "execution_count": 245,
   "id": "1713ee98",
   "metadata": {},
   "outputs": [],
   "source": [
    "step3Table = step2Table\n",
    "#Step3Table is a more precise table that only shows average concentration as well as standard deviation\n",
    "#Using inspection everything matches up to Sasha's manual calculated result "
   ]
  },
  {
   "cell_type": "markdown",
   "id": "c7f16bcc",
   "metadata": {},
   "source": [
    "### Step 4: Using new naming convention to convert average concentration in sample and std to mg/kg"
   ]
  },
  {
   "cell_type": "code",
   "execution_count": 246,
   "id": "87f0d77f",
   "metadata": {},
   "outputs": [],
   "source": [
    "def blank_matcher():\n",
    "    \"\"\"Loop through each row of the table and output a new table after converting average concentration of the element in the sample and the std dev to (mg/kg)\n",
    "    as well as converting dilution back to original value \n",
    "    \"\"\"\n",
    "    ans = []\n",
    "    for info_tuple in step2Table.index:\n",
    "        dilution_index = info_tuple[0][12]\n",
    "        salt_index = info_tuple[0][5:7]\n",
    "        sample_type = info_tuple[0][2]\n",
    "        if sample_type == 'B':\n",
    "            ans.append('NA')\n",
    "        else:\n",
    "            boo = dilutionTable[dilutionTable['dilution ID'] == info_tuple[0]]\n",
    "            dilution_constant = (boo['volume digestion (ml)'].unique().astype(float)[0] * boo['dilution factor'].unique().astype(float)[0]) / boo['mass sample (g)'].unique().astype(float)[0]\n",
    "            blank_name = info_tuple[0][0:2] + 'B' + info_tuple[0][3:]\n",
    "            calculation = (step2Table.loc[[info_tuple]]['Conc (Samp)'].unique().astype(float)[0] - blank_table.loc[[(blank_name, info_tuple[1])]]['Conc (Calib)'].unique().astype(float)[0]) * dilution_constant\n",
    "            ans.append(calculation)\n",
    "\n",
    "    return ans \n",
    "a = blank_matcher()\n",
    "final_table = step2Table\n",
    "final_table['concentration of element in sample'] = a\n"
   ]
  },
  {
   "cell_type": "code",
   "execution_count": 239,
   "id": "812d9fc2",
   "metadata": {},
   "outputs": [],
   "source": [
    "#export out for Excel view\n",
    "final_table.to_csv('output.csv')\n"
   ]
  }
 ],
 "metadata": {
  "kernelspec": {
   "display_name": "Python 3.9.13 64-bit",
   "language": "python",
   "name": "python3"
  },
  "language_info": {
   "codemirror_mode": {
    "name": "ipython",
    "version": 3
   },
   "file_extension": ".py",
   "mimetype": "text/x-python",
   "name": "python",
   "nbconvert_exporter": "python",
   "pygments_lexer": "ipython3",
   "version": "3.9.13"
  },
  "vscode": {
   "interpreter": {
    "hash": "2f1ab2ca0b4268617c9c15108406e3be2b64989c728e47a18201667124c6f34f"
   }
  }
 },
 "nbformat": 4,
 "nbformat_minor": 5
}
